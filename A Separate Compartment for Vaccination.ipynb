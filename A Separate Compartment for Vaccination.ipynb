{
 "cells": [
  {
   "cell_type": "code",
   "execution_count": 1,
   "metadata": {},
   "outputs": [
    {
     "name": "stderr",
     "output_type": "stream",
     "text": [
      "Your code contains a unicode char which cannot be displayed in your\n",
      "current locale and R will silently convert it to an escaped form when the\n",
      "R kernel executes this code. This can lead to subtle errors if you use\n",
      "such chars to do comparisons. For more information, please see\n",
      "https://github.com/IRkernel/repr/wiki/Problems-with-unicode-on-windows"
     ]
    }
   ],
   "source": [
    "# Develop a simple model of vaccination that you can modify to explore different ways of modelling vaccine impact in the following etivities. Last week, we represented vaccination by chosing a certain proportion of population immunity, represented by the  𝑅  compartment, at the beginning of the simulation\n",
    "\n",
    "# However, if we want to distinguish the effect of vaccination, or if we want to capture some important difference in vaccine-induced immunity compared to recovery-induced immunity, we can include a separate compartment  𝑉  for vaccinated people in addition to the recovered compartment  𝑅 . \n",
    "# In this exercise we are still modelling vaccination coverage through the initial conditions, so no new parameters are added to the model, but the vaccination coverage p should be included in the initial state values. \n",
    "# The proportion of the population that is effectively vaccinated does not change over the simulation.\n",
    "\n",
    "# 𝑆0 = (1−𝑝)𝑁\n",
    "# 𝐼0 = 1\n",
    "# 𝑅0 = 0\n",
    "# 𝑉0 = 𝑝𝑁\n",
    "\n",
    "# where p is the effective vaccination coverage and  𝑁  is the total population size"
   ]
  },
  {
   "cell_type": "code",
   "execution_count": 2,
   "metadata": {},
   "outputs": [
    {
     "name": "stderr",
     "output_type": "stream",
     "text": [
      "Warning message:\n",
      "\"package 'deSolve' was built under R version 3.6.3\"Warning message:\n",
      "\"package 'reshape2' was built under R version 3.6.3\"Registered S3 methods overwritten by 'ggplot2':\n",
      "  method         from \n",
      "  [.quosures     rlang\n",
      "  c.quosures     rlang\n",
      "  print.quosures rlang\n"
     ]
    }
   ],
   "source": [
    "# LOAD THE PACKAGES:\n",
    "library(deSolve)\n",
    "library(reshape2)\n",
    "library(ggplot2)\n",
    "\n",
    "# MODEL INPUTS:\n",
    "\n",
    "# Specify the total population size\n",
    "N <- 1000000\n",
    "\n",
    "# Specify the vaccination coverage\n",
    "p <- 0.3\n",
    "\n",
    "# Initial number of people in each compartment\n",
    "initial_state_values <- c(S = (1-p)*N,   # the unvaccinated proportion of\n",
    "                                         # the population is susceptible\n",
    "                          I = 1,         # the epidemic starts with one \n",
    "                                         # single infected person\n",
    "                          R = 0,         # there's no prior immunity in \n",
    "                                         # the population\n",
    "                          V = p*N)       # a proportion p of the population\n",
    "                                         # is vaccinated (vaccination coverage) \n",
    "\n",
    "# Parameters describing the transition rates in units of days^-1\n",
    "parameters <- c(beta = 0.5,       # the infection rate\n",
    "                gamma = 0.1)      # the rate of recovery\n",
    "\n",
    "# TIMESTEPS:\n",
    "\n",
    "# Sequence of timesteps to solve the model at\n",
    "times <- seq(from = 0, to = 100, by = 1)   # from 0 to 100 days, daily intervals\n",
    "\n",
    "# MODEL FUNCTION: \n",
    "\n",
    "vaccine_model <- function(time, state, parameters) {  \n",
    "\n",
    "    with(as.list(c(state, parameters)), {    \n",
    "        \n",
    "    # Defining lambda as a function of beta and I:\n",
    "      lambda <- beta * I/N\n",
    "        \n",
    "    # The differential equations\n",
    "      dS <- -lambda * S            \n",
    "      dI <- lambda * S - gamma * I \n",
    "      dR <- gamma * I\n",
    "      dV <- 0            # the number in the V compartment should stay \n",
    "                         # the same over the whole simulation,\n",
    "                         # so the rate of change equals 0\n",
    "      \n",
    "    # Return the number of people in each compartment at each timestep \n",
    "    # (in the same order as the input state variables)\n",
    "    return(list(c(dS, dI, dR, dV))) \n",
    "    })\n",
    "  \n",
    "}\n",
    "\n",
    "# MODEL OUTPUT:\n",
    "\n",
    "# Solving the differential equations using the ode integration algorithm\n",
    "output <- as.data.frame(ode(y = initial_state_values, \n",
    "                            times = times, \n",
    "                            func = vaccine_model,\n",
    "                            parms = parameters))"
   ]
  },
  {
   "cell_type": "code",
   "execution_count": 3,
   "metadata": {},
   "outputs": [
    {
     "data": {
      "image/png": "[encoded data removed]",
      "text/plain": [
       "plot without title"
      ]
     },
     "metadata": {},
     "output_type": "display_data"
    }
   ],
   "source": [
    "# turn output dataset into long format\n",
    "output_long <- melt(as.data.frame(output), id = \"time\")\n",
    "\n",
    "# Adding a column for the prevalence proportion to the long-format output\n",
    "output_long$prevalence <- output_long$value/sum(initial_state_values)\n",
    "\n",
    "# Plot the number in each compartment over time\n",
    "ggplot(data = output_long,                                               \n",
    "       aes(x = time, y = prevalence, colour = variable, group = variable)) +  \n",
    "  geom_line() +                                                          \n",
    "  xlab(\"Time (days)\")+                                                   \n",
    "  ylab(\"Proportion of the population\") +                                      \n",
    "  labs(colour = \"Compartment\") +\n",
    "  scale_colour_brewer(palette = \"Set2\")"
   ]
  },
  {
   "cell_type": "code",
   "execution_count": 4,
   "metadata": {},
   "outputs": [
    {
     "name": "stderr",
     "output_type": "stream",
     "text": [
      "Your code contains a unicode char which cannot be displayed in your\n",
      "current locale and R will silently convert it to an escaped form when the\n",
      "R kernel executes this code. This can lead to subtle errors if you use\n",
      "such chars to do comparisons. For more information, please see\n",
      "https://github.com/IRkernel/repr/wiki/Problems-with-unicode-on-windows"
     ]
    }
   ],
   "source": [
    "# Our code gives a sensible output:\n",
    "\n",
    "# if we chose no or a low vaccination coverage, we see an epidemic as we would expect given our choice of  𝛽  and  𝛾  (R0 = 0.5/0.1 = 5)\n",
    "# if we chose a vaccination coverage over the herd immunity threshold of 80% (> 1-1/R0), no epidemic occurs\n",
    "# the proportion of the population in the vaccinated compartment  𝑉  stays constant over time\n",
    "\n",
    "# Why do we need to specify V in the differential equations at all?\n",
    "# You might wonder why we specify the rate of change in the vaccinated compartment in our differential equations, despite this not changing over time. This is purely for practical reasons using deSolve.\n",
    "# Technically all we need is to define the initial number of people in  𝑉 , but remember that using deSolve, we need to return/output the rate of change variables at the end of the model function corresponding to the same order of variables in the initial_state_values vector.\n",
    "# So by having  𝑉  in the initial conditions, we also have to output its rate of change from the model function, else deSolve::ode() will print an error message saying \"The number of derivatives returned by func() must equal the length of the initial conditions vector\""
   ]
  },
  {
   "cell_type": "code",
   "execution_count": null,
   "metadata": {},
   "outputs": [],
   "source": []
  }
 ],
 "metadata": {
  "kernelspec": {
   "display_name": "R",
   "language": "R",
   "name": "ir"
  },
  "language_info": {
   "codemirror_mode": "r",
   "file_extension": ".r",
   "mimetype": "text/x-r-source",
   "name": "R",
   "pygments_lexer": "r",
   "version": "3.6.1"
  }
 },
 "nbformat": 4,
 "nbformat_minor": 4
}
