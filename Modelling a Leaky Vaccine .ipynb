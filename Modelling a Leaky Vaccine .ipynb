{
 "cells": [
  {
   "cell_type": "code",
   "execution_count": 1,
   "metadata": {},
   "outputs": [],
   "source": [
    "# In that etivity, we assumed that a proportion p of the population received a vaccine that is fully effective in protecting against infection.\n",
    "# what if the vaccine is not perfect (as is usually the case in reality)\n",
    "# there are two common assumptions modellers make about how imperfect vaccines work: the \"all-or-nothing\" and the \"leaky\" mechanism. \n",
    "# All-or-nothing vaccines give full immunity to a proportion of those vaccinated, but don't work at all in the other vaccinated people.\n",
    "# In contrast, leaky vaccines reduce susceptibility in everyone who received the vaccine by the same fraction. \n",
    "# This means that vaccinated people can still become infected, but at a reduced rate (force of infection)"
   ]
  },
  {
   "cell_type": "code",
   "execution_count": 1,
   "metadata": {},
   "outputs": [
    {
     "name": "stderr",
     "output_type": "stream",
     "text": [
      "Your code contains a unicode char which cannot be displayed in your\n",
      "current locale and R will silently convert it to an escaped form when the\n",
      "R kernel executes this code. This can lead to subtle errors if you use\n",
      "such chars to do comparisons. For more information, please see\n",
      "https://github.com/IRkernel/repr/wiki/Problems-with-unicode-on-windows"
     ]
    }
   ],
   "source": [
    "# Assuming  𝛽  equals 0.25 days −1  and  𝛾  equals 0.1 days −1 , what proportion of the population would have to be vaccinated with a perfectly effective vaccine to prevent an epidemic?\n",
    "# Using the formula for the herd immunity threshold, we need a vaccine coverage of 60% with a perfect vaccine:\n",
    "# 𝑝𝑐 = 1 − 1/𝑅0\n",
    "# pc = 1 − 𝛾/𝛽\n",
    "# pc = 1 −  0.1/0.25\n",
    "# pc = 0.6\n",
    "\n",
    "# Given the parameter assumptions above, what proportion of the population would have to be vaccinated with an all-or-nothing vaccine with 70% efficacy to prevent an epidemic?\n",
    "# Under the assumption of an all-or-nothing vaccine, we can simply multiply the vaccine efficacy veff and the vaccine coverage to calculate the effective coverage peff:\n",
    "\n",
    "# 𝑣𝑒𝑓𝑓∗𝑝𝑒𝑓𝑓 =  0.6\n",
    "# 𝑝𝑒𝑓𝑓  =  0.6/0.7\n",
    "# 𝑝𝑒𝑓𝑓  = 0.86\n",
    "\n",
    "# Therefore, we need at least 86% coverage of a leaky vaccine with efficacy of 70%, to interrupt transmission (R0 < 1).\n",
    "\n",
    "# Based on the diagram, write down the differential equations for this model on paper. What is the value of cs for a leaky vaccine with 70% efficacy?\n",
    "\n",
    "# 𝑑𝑆/𝑑𝑡 = −𝛽𝐼/𝑁𝑆\n",
    "# 𝑑𝐼/𝑑𝑡 = 𝛽𝐼/𝑁𝑆+𝑐𝑠𝛽𝐼/𝑁𝑉−𝛾𝐼\n",
    "# 𝑑𝑅/𝑑𝑡 = 𝛾𝐼\n",
    "# 𝑑𝑉/𝑑𝑡 = −𝑐𝑠𝛽𝐼/𝑁𝑉\n",
    "\n",
    "# For a leaky vaccine with 70% efficacy, the value of cs would be 0.3, reflecting the degree to which susceptibility is reduced.\n",
    "\n",
    "# Modelling a leaky vaccine with 60% coverage\n",
    "\n"
   ]
  },
  {
   "cell_type": "code",
   "execution_count": 2,
   "metadata": {},
   "outputs": [
    {
     "name": "stderr",
     "output_type": "stream",
     "text": [
      "Warning message:\n",
      "\"package 'deSolve' was built under R version 3.6.3\"Warning message:\n",
      "\"package 'reshape2' was built under R version 3.6.3\"Registered S3 methods overwritten by 'ggplot2':\n",
      "  method         from \n",
      "  [.quosures     rlang\n",
      "  c.quosures     rlang\n",
      "  print.quosures rlang\n"
     ]
    },
    {
     "data": {
      "image/png": "[encoded data removed]",
      "text/plain": [
       "plot without title"
      ]
     },
     "metadata": {},
     "output_type": "display_data"
    }
   ],
   "source": [
    "# LOAD THE PACKAGES:\n",
    "library(deSolve)\n",
    "library(reshape2)\n",
    "library(ggplot2)\n",
    "\n",
    "# MODEL INPUTS:\n",
    "\n",
    "# Specify the total population size\n",
    "N <- 1000000\n",
    "\n",
    "# Specify the vaccination coverage\n",
    "p <- 0.6\n",
    "\n",
    "# Initial number of people in each compartment\n",
    "initial_state_values <- c(S = (1-p)*N,    # the unvaccinated proportion of\n",
    "                                          # the population is susceptible\n",
    "                          I = 1,          # the epidemic starts with a\n",
    "                                          # single infected person\n",
    "                          R = 0,          # there is no prior immunity\n",
    "                          V = p*N)        # a proportion p of the population\n",
    "                                          # is vaccinated (vaccination coverage) \n",
    "\n",
    "# Parameters\n",
    "parameters <- c(beta = 0.25,      # the infection rate in units of days^-1\n",
    "                gamma = 0.1,      # the rate of recovery in units of days^-1\n",
    "                c_s = 0.3)        # the reduction in the force of infection\n",
    "                                  # acting on those vaccinated\n",
    "                                  # note that c_s is a multiplicative term\n",
    "                                  # and not a rate\n",
    "\n",
    "# TIMESTEPS:\n",
    "\n",
    "# Sequence of timesteps to solve the model at\n",
    "times <- seq(from = 0, to = 730, by = 1)  # from 0 to 2 years, daily intervals\n",
    "\n",
    "# MODEL FUNCTION: \n",
    "\n",
    "vaccine_model <- function(time, state, parameters) {  \n",
    "\n",
    "    with(as.list(c(state, parameters)), {    \n",
    "        \n",
    "    # Defining lambda as a function of beta and I:\n",
    "      lambda <- beta * I/N\n",
    "        \n",
    "    # The differential equations\n",
    "      dS <- -lambda * S            \n",
    "      dI <- lambda * S - gamma * I + c_s * lambda * V  # vaccinated people (V) can\n",
    "                                                       # now also move into the I compartment\n",
    "      dR <- gamma * I\n",
    "      dV <- - c_s * lambda * V                         # vaccinated people become infected\n",
    "                                                       # at a rate c_s * lambda                   \n",
    "      \n",
    "    # Return the number of people in each compartment at each timestep \n",
    "    # (in the same order as the input state variables)\n",
    "    return(list(c(dS, dI, dR, dV))) \n",
    "    })\n",
    "  \n",
    "}\n",
    "\n",
    "# MODEL OUTPUT:\n",
    "\n",
    "# Solving the differential equations using the ode integration algorithm\n",
    "output <- as.data.frame(ode(y = initial_state_values, \n",
    "                            times = times, \n",
    "                            func = vaccine_model,\n",
    "                            parms = parameters))\n",
    "\n",
    "# PLOT THE OUTPUT\n",
    "\n",
    "# turn output dataset into long format\n",
    "output_long <- melt(as.data.frame(output), id = \"time\")\n",
    "\n",
    "# Adding a column for the prevalence proportion to the long-format output\n",
    "output_long$prevalence <- output_long$value/sum(initial_state_values)\n",
    "\n",
    "# Plot the number in each compartment over time\n",
    "ggplot(data = output_long,                                               \n",
    "       aes(x = time, y = prevalence, colour = variable, group = variable)) +  \n",
    "  geom_line() +                                                          \n",
    "  xlab(\"Time (days)\")+                                                   \n",
    "  ylab(\"Proportion of the population\") +\n",
    "  labs(title = paste(\"Leaky vaccine with coverage of\", p*100, \"%\"), \n",
    "       colour = \"Compartment\") +\n",
    "  scale_colour_brewer(palette = \"Set2\")"
   ]
  },
  {
   "cell_type": "code",
   "execution_count": 3,
   "metadata": {},
   "outputs": [],
   "source": [
    "# As you can see, a 60% coverage is not sufficient to prevent an epidemic if the vaccine is not perfectly effective."
   ]
  },
  {
   "cell_type": "code",
   "execution_count": 5,
   "metadata": {},
   "outputs": [
    {
     "data": {
      "image/png": "[encoded data removed]",
      "text/plain": [
       "plot without title"
      ]
     },
     "metadata": {},
     "output_type": "display_data"
    }
   ],
   "source": [
    "# Modelling a leaky vaccine with 86% coverage:\n",
    "\n",
    "# Specify the vaccination coverage\n",
    "p <- 0.86\n",
    "\n",
    "# Initial number of people in each compartment\n",
    "initial_state_values <- c(S = (1-p)*N,      # the unvaccinated proportion of\n",
    "                                            # the population is susceptible\n",
    "                          I = 1,            # the epidemic starts with a single\n",
    "                                            # infected person\n",
    "                          R = 0,            # there is no prior immunity in\n",
    "                                            # the population\n",
    "                          V = p*N)          # a proportion p of the population\n",
    "                                            # is vaccinated (vaccination coverage) \n",
    "\n",
    "# MODEL OUTPUT:\n",
    "\n",
    "# Solving the differential equations using the ode integration algorithm\n",
    "output <- as.data.frame(ode(y = initial_state_values, \n",
    "                            times = times, \n",
    "                            func = vaccine_model,\n",
    "                            parms = parameters))\n",
    "\n",
    "# PLOT THE OUTPUT\n",
    "\n",
    "# turn output dataset into long format\n",
    "output_long <- melt(as.data.frame(output), id = \"time\")      \n",
    "\n",
    "# Adding a column for the prevalence proportion to the long-format output\n",
    "output_long$prevalence <- output_long$value/sum(initial_state_values)\n",
    "\n",
    "# Plot the number in each compartment over time\n",
    "ggplot(data = output_long,                                               \n",
    "       aes(x = time, y = prevalence, colour = variable, group = variable)) +  \n",
    "  geom_line() +                                                          \n",
    "  xlab(\"Time (days)\")+                                                   \n",
    "  ylab(\"Proportion of the population\") +\n",
    "  labs(title = paste(\"Leaky vaccine with coverage of\", p*100, \"%\"), \n",
    "       colour = \"Compartment\")  +\n",
    "  scale_colour_brewer(palette = \"Set2\")"
   ]
  },
  {
   "cell_type": "code",
   "execution_count": 7,
   "metadata": {},
   "outputs": [
    {
     "name": "stderr",
     "output_type": "stream",
     "text": [
      "Your code contains a unicode char which cannot be displayed in your\n",
      "current locale and R will silently convert it to an escaped form when the\n",
      "R kernel executes this code. This can lead to subtle errors if you use\n",
      "such chars to do comparisons. For more information, please see\n",
      "https://github.com/IRkernel/repr/wiki/Problems-with-unicode-on-windows"
     ]
    }
   ],
   "source": [
    "# With a leaky vaccine with 70% efficacy, what proportion of the population would have to be vaccinated to prevent an epidemic (Reff < 1)? \n",
    "# Try addressing this first through simulation.\n",
    "\n",
    "# Instead, the simulations above suggest that we need a coverage of at least 86% with a leaky vaccine with 70% efficacy to interrupt transmission and prevent an epidemic.\n",
    "\n",
    "# Now, can you confirm this result using equations, and not simulation? For this, think about the relationship between R0 and Reff.\n",
    "# calculate the critical vaccination coverage needed to interrupt transmission (Reff < 1), in the following way.\n",
    "\n",
    "# Remember that in a simple homogenous model, Reff is proportional to the number of susceptible people in the population. In this case:\n",
    "# 𝑅𝑒𝑓𝑓 = (1−𝑝)×𝑅0 + 𝑝𝑐𝑆×𝑅0\n",
    "\n",
    "# where p is the proportion of the population receiving the vaccine, and cs is the reduction in susceptibility owing to the vaccine\n",
    "\n",
    "# Setting p = pc when Reff = 1, and solving this to find pc gives:\n",
    "\n",
    "# 𝑝𝑐 = (1−1/𝑅0)/(1−𝑐𝑠)\n",
    "# 𝑝𝑐 = (1−1/(0.25/0.1))/(1−0.3)\n",
    "# 𝑝𝑐 = 0.866"
   ]
  },
  {
   "cell_type": "code",
   "execution_count": null,
   "metadata": {},
   "outputs": [],
   "source": []
  }
 ],
 "metadata": {
  "kernelspec": {
   "display_name": "R",
   "language": "R",
   "name": "ir"
  },
  "language_info": {
   "codemirror_mode": "r",
   "file_extension": ".r",
   "mimetype": "text/x-r-source",
   "name": "R",
   "pygments_lexer": "r",
   "version": "3.6.1"
  }
 },
 "nbformat": 4,
 "nbformat_minor": 4
}
