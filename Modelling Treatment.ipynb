{
 "cells": [
  {
   "cell_type": "code",
   "execution_count": 1,
   "metadata": {},
   "outputs": [
    {
     "name": "stderr",
     "output_type": "stream",
     "text": [
      "Your code contains a unicode char which cannot be displayed in your\n",
      "current locale and R will silently convert it to an escaped form when the\n",
      "R kernel executes this code. This can lead to subtle errors if you use\n",
      "such chars to do comparisons. For more information, please see\n",
      "https://github.com/IRkernel/repr/wiki/Problems-with-unicode-on-windows"
     ]
    }
   ],
   "source": [
    "# the simple SIR model to incorporate a treatment intervention and study its effect on the epidemiology of an immunising infection\n",
    "\n",
    "# To model a viral epidemic in a town of 300,000 people, which starts with the introduction of a single infected case in a fully susceptible population\n",
    "# From other, similar outbreaks elsewhere, public health authorities believe the infection rate is 0.6 days −1  and that people stay infected for 5 days on average before recovering\n",
    "# Once recovered, people are immune to reinfection\n",
    "\n",
    "# Luckily, a treatment against the virus is available. Although it does not cure people immediately, it helps them to recover more quickly: on average, people recover after 1.25 days of treatment\n",
    "# Treatment has no effect on transmission of the virus, so treated people are just as infectious as untreated infected people\n",
    "# Imagine that people start taking the treatment on average 4 days after becoming infected\n",
    "\n",
    "# here we have a new situation where infectious people are now separated into 2 different compartments: treated ( 𝑇 ) and untreated ( 𝐼 ) infected people can transmit the virus\n",
    "\n",
    "# Specifying the force of infection in the treatment model:\n",
    "# Remember, the force of infection  𝜆  acts on susceptibles. It removes people from the  𝑆  compartment and adds them into the  𝐼  compartment - this remains the same in our treatment model.\n",
    "\n",
    "# The only difference is that people in both the  𝐼  and  𝑇  compartments are a source of infection now \n",
    "# Here, we assume they are equally good at passing on the infection, which means they both transmit the virus to susceptibles at a rate  𝛽 . \n",
    "# Remember,  𝛽  is simply the average number of secondary infections caused by an infectious person per unit time - here we are assuming that untreated and treated people cause the same average number of secondary infections per unit time.\n",
    "\n",
    "# In the basic SIR model, the equation for the force of infection was:\n",
    "# 𝜆=𝛽𝐼/𝑁\n",
    "\n",
    "# All we have to do now is add those additional infectious people in the  𝑇  compartment:\n",
    "# 𝜆=𝛽(𝐼+𝑇)/𝑁\n",
    "\n",
    "# Or another way of expressing this:\n",
    "# 𝜆=𝛽𝐼/𝑁+𝛽𝑇/𝑁\n",
    "\n",
    "# Extending the SIR model to model a treatment which speeds up recovery:"
   ]
  },
  {
   "cell_type": "code",
   "execution_count": 2,
   "metadata": {},
   "outputs": [
    {
     "name": "stderr",
     "output_type": "stream",
     "text": [
      "Warning message:\n",
      "\"package 'deSolve' was built under R version 3.6.3\"Warning message:\n",
      "\"package 'reshape2' was built under R version 3.6.3\"Registered S3 methods overwritten by 'ggplot2':\n",
      "  method         from \n",
      "  [.quosures     rlang\n",
      "  c.quosures     rlang\n",
      "  print.quosures rlang\n"
     ]
    },
    {
     "data": {
      "image/png": "[encoded data removed]",
      "text/plain": [
       "plot without title"
      ]
     },
     "metadata": {},
     "output_type": "display_data"
    }
   ],
   "source": [
    "# LOAD THE PACKAGES:\n",
    "library(deSolve)\n",
    "library(reshape2)\n",
    "library(ggplot2)\n",
    "\n",
    "# MODEL INPUTS:\n",
    "\n",
    "# Initial number of people in each compartment\n",
    "initial_state_values <- c(S = 300000,         \n",
    "                          I = 1,           \n",
    "                          R = 0,          \n",
    "                          T = 0)   # treatment compartment: no one is on \n",
    "                                   # treatment at the beginning of the simulation\n",
    "\n",
    "\n",
    "# Parameters describing the transition rates in units of days^-1\n",
    "parameters <- c(beta = 0.6,       # the infection rate\n",
    "                gamma = 0.2,      # the natural (untreated) rate of recovery\n",
    "                h = 0.25,         # the rate of treatment initiation\n",
    "                gamma_t = 0.8)    # the rate of recovery after treatment\n",
    "\n",
    "# TIMESTEPS:\n",
    "\n",
    "# Sequence of timesteps to solve the model at\n",
    "times <- seq(from = 0, to = 80, by = 1) # from 0 to 80 days in daily intervals\n",
    "\n",
    "# MODEL FUNCTION: \n",
    "\n",
    "treatment_model <- function(time, state, parameters) {  \n",
    "\n",
    "    with(as.list(c(state, parameters)), {    \n",
    "        \n",
    "    # Calculating the total population size N \n",
    "      N <- S+I+R+T                # need to add the treated compartment here\n",
    "      \n",
    "    # Defining lambda\n",
    "      lambda <- beta * (I+T)/N    # force of infection depends on the proportion \n",
    "                                  # in the I and T compartment  \n",
    "        \n",
    "    # The differential equations\n",
    "      dS <- -lambda * S            \n",
    "      dI <- lambda * S - gamma * I - h * I  # infected people initiate \n",
    "                                            # treatment at a rate h  \n",
    "      dT <- h * I - gamma_t * T             # people enter the treated \n",
    "                                            # compartment at rate h and \n",
    "                                            # recover at rate gamma_t\n",
    "      dR <- gamma * I + gamma_t * T         # movement into the recovered compartment \n",
    "                                            # is from infected and treated compartment\n",
    "      \n",
    "    # Return the number of people in each compartment at each timestep \n",
    "    # (in the same order as the input state variables)\n",
    "    return(list(c(dS, dI, dR, dT)))         # need to add the rate of change in \n",
    "                                            # the treated compartment T here\n",
    "    })\n",
    "  \n",
    "}\n",
    "\n",
    "# MODEL OUTPUT:\n",
    "\n",
    "# Solving the differential equations using the ode integration algorithm\n",
    "output <- as.data.frame(ode(y = initial_state_values, \n",
    "                            times = times, \n",
    "                            func = treatment_model,\n",
    "                            parms = parameters))\n",
    "\n",
    "# Plot the number infected\n",
    "ggplot(data = output,                                               \n",
    "       aes(x = time, y = I+T)) +     # infected people include those \n",
    "                                     # untreated (I) and treated (T)\n",
    "  geom_line() +                                                          \n",
    "  xlab(\"Time (years)\")+                                                   \n",
    "  ylab(\"Prevalence of infection\") +                                      \n",
    "  labs(title = paste(\"Epidemic with treatment initiation rate of\", \n",
    "                     parameters[\"h\"], \"per day\"))"
   ]
  },
  {
   "cell_type": "code",
   "execution_count": 3,
   "metadata": {},
   "outputs": [
    {
     "name": "stderr",
     "output_type": "stream",
     "text": [
      "Your code contains a unicode char which cannot be displayed in your\n",
      "current locale and R will silently convert it to an escaped form when the\n",
      "R kernel executes this code. This can lead to subtle errors if you use\n",
      "such chars to do comparisons. For more information, please see\n",
      "https://github.com/IRkernel/repr/wiki/Problems-with-unicode-on-windows"
     ]
    }
   ],
   "source": [
    "# How many people are infected at the peak of the epidemic?\n",
    "# At the peak of the epidemic around 37600 are infected - this includes the  𝐼  as well as the  𝑇  (treated) compartment.\n",
    "\n",
    "# Increasing the treatment initiation rate to interrupt transmission (reduce R0 below 1):"
   ]
  },
  {
   "cell_type": "code",
   "execution_count": 4,
   "metadata": {},
   "outputs": [
    {
     "data": {
      "image/png": "[encoded data removed]",
      "text/plain": [
       "plot without title"
      ]
     },
     "metadata": {},
     "output_type": "display_data"
    }
   ],
   "source": [
    "# Increase the treatment initiation rate\n",
    "parameters[\"h\"] <- 1.6\n",
    "\n",
    "# Simulate the model\n",
    "output <- as.data.frame(ode(y = initial_state_values, \n",
    "                            times = times, \n",
    "                            func = treatment_model,\n",
    "                            parms = parameters))\n",
    "\n",
    "# Plot the number infected (I+T compartments)\n",
    "ggplot(data = output,                                               \n",
    "       aes(x = time, y = I+T)) +                \n",
    "  geom_line() +                                                          \n",
    "  xlab(\"Time (days)\")+                                                   \n",
    "  ylab(\"Prevalence of infection\") +                                      \n",
    "  labs(title = paste(\"Epidemic with treatment initiation rate of\", \n",
    "                     parameters[\"h\"], \"per day\")) +\n",
    "  ylim(c(0,38000))          # for visual purposes add the same limit on the\n",
    "                            # y axis as on previous plot\n",
    "\n",
    "# If you look at the numbers infected or remove the limit on the y axis, \n",
    "# you will see that with h = 1.6, the number of infected people never \n",
    "# rises up to 2, in comparison to h = 1.5 for example. "
   ]
  },
  {
   "cell_type": "code",
   "execution_count": 5,
   "metadata": {},
   "outputs": [
    {
     "name": "stderr",
     "output_type": "stream",
     "text": [
      "Your code contains a unicode char which cannot be displayed in your\n",
      "current locale and R will silently convert it to an escaped form when the\n",
      "R kernel executes this code. This can lead to subtle errors if you use\n",
      "such chars to do comparisons. For more information, please see\n",
      "https://github.com/IRkernel/repr/wiki/Problems-with-unicode-on-windows"
     ]
    }
   ],
   "source": [
    "# How rapidly does treatment need to be initiated in order to interrupt transmission, i.e. to bring R0 below 1? \n",
    "# Based on this, do you think it is feasible to interrupt transmission through treatment alone?\n",
    "\n",
    "# To interrupt transmission by bringing R0 below 1, the treatment initiation rate needs to be at least 1.6 per day, which means people need to start treatment less than a day after becoming infected on average.\n",
    "\n",
    "# To achieve a reduction in the treatment initiation rate, think about what it depends on: the time it takes people to go to a doctor, the time it takes to get a diagnosis, and the time from diagnosis to starting treatment for example. \n",
    "# These in turn depend on many situational aspects such as whether the disease is symptomatic, the healthcare system, which test is required for a diagnosis etc.\n",
    "# One way of increasing the rate of treatment initiation would be through active case-finding for example, rather than waiting for people to seek medical attention themselves.\n",
    "\n",
    "# However, given all these factors, achieving a treatment initiation rate as high as required in this example does not seem feasible.\n",
    "\n",
    "# Using only reasoning based on R0 (i.e. without computer simulation), what is the minimum value of h needed to interrupt transmission? \n",
    "# Is this consistent with what you found using the model in the previous question?\n",
    "\n",
    "# Remember that R0 is defined as the average number of secondary infections caused by a single infectious case (in a totally susceptible population). \n",
    "# We can derive the following equation:\n",
    "# 𝑅0 = 𝛽/(𝛾+ℎ) + ℎ/(𝛾+ℎ) ×(𝛽/𝛾𝑇)\n",
    "\n",
    "# Here, we are taking the average of secondary infections caused by index cases in the I and the T compartment, keeping in mind that only a proportion\n",
    "# ℎ/(𝛾+ℎ)\n",
    "# move into the treatment compartment before recovering\n",
    "\n",
    "# Solving this equation with our parameter values to obtain R0 < 1:\n",
    "# 1 > 0.6/(0.2+ℎ) + ℎ/(0.2+ℎ) × 0.6/0.8\n",
    "# 0.2 + ℎ > 0.6 + 0 .75h\n",
    "# ℎ > 1.6\n",
    "\n",
    "# This is consistent with the value we found with the model in the previous question!\n",
    "\n",
    "\n",
    "# What other (theoretical) changes could you make to this treatment to improve its impact on the epidemic?\n",
    "# In reality, the delay between people becoming infected and people starting on treatment is often the only thing that can be changed to some degree during an outbreak. \n",
    "# However, given more time, improving the efficacy and biological action of the treatment itself is likely to improve its impact on reducing the prevalence, for example by: \n",
    "\n",
    "# increasing the recovery rate of those on treatment\n",
    "# developing a treatment that additionally reduces the infectiousness of those who take it\n",
    "\n",
    "# Keep in mind though that how the efficacy of a treatment translates into its population-level impact is not always obvious, and depends again on many other factors."
   ]
  },
  {
   "cell_type": "code",
   "execution_count": null,
   "metadata": {},
   "outputs": [],
   "source": []
  }
 ],
 "metadata": {
  "kernelspec": {
   "display_name": "R",
   "language": "R",
   "name": "ir"
  },
  "language_info": {
   "codemirror_mode": "r",
   "file_extension": ".r",
   "mimetype": "text/x-r-source",
   "name": "R",
   "pygments_lexer": "r",
   "version": "3.6.1"
  }
 },
 "nbformat": 4,
 "nbformat_minor": 4
}
